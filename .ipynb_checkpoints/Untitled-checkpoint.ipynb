{
 "cells": [
  {
   "cell_type": "code",
   "execution_count": 1,
   "id": "3e6687bd-549e-48f2-9d4c-4fda9f02653c",
   "metadata": {},
   "outputs": [],
   "source": [
    "import numpy as np\n",
    "import pandas as pd\n",
    "import matplotlib.pyplot as plt"
   ]
  },
  {
   "cell_type": "code",
   "execution_count": 10,
   "id": "135b93d0-6f22-439e-86f8-da4da345acc7",
   "metadata": {},
   "outputs": [],
   "source": [
    "dataSet= np.load('proyecto_training_data.npy')"
   ]
  },
  {
   "cell_type": "code",
   "execution_count": 11,
   "id": "2c0b81d1-9631-4309-8bb7-49c919b9785a",
   "metadata": {},
   "outputs": [
    {
     "data": {
      "text/plain": [
       "array([[2.08500e+05, 7.00000e+00, 8.56000e+02, 8.00000e+00, 2.00300e+03,\n",
       "        6.50000e+01],\n",
       "       [1.81500e+05, 6.00000e+00, 1.26200e+03, 6.00000e+00, 1.97600e+03,\n",
       "        8.00000e+01],\n",
       "       [2.23500e+05, 7.00000e+00, 9.20000e+02, 6.00000e+00, 2.00100e+03,\n",
       "        6.80000e+01],\n",
       "       ...,\n",
       "       [2.66500e+05, 7.00000e+00, 1.18800e+03, 9.00000e+00, 1.94100e+03,\n",
       "        6.60000e+01],\n",
       "       [1.42125e+05, 5.00000e+00, 1.07800e+03, 5.00000e+00, 1.95000e+03,\n",
       "        6.80000e+01],\n",
       "       [1.47500e+05, 5.00000e+00, 1.25600e+03, 6.00000e+00, 1.96500e+03,\n",
       "        7.50000e+01]])"
      ]
     },
     "execution_count": 11,
     "metadata": {},
     "output_type": "execute_result"
    }
   ],
   "source": [
    "dataSet"
   ]
  },
  {
   "cell_type": "code",
   "execution_count": 4,
   "id": "17d41756-109f-4fe7-b7ae-21de36f11098",
   "metadata": {},
   "outputs": [
    {
     "data": {
      "text/plain": [
       "array([1.815e+05, 6.000e+00, 1.262e+03, 6.000e+00, 1.976e+03, 8.000e+01])"
      ]
     },
     "execution_count": 4,
     "metadata": {},
     "output_type": "execute_result"
    }
   ],
   "source": [
    "DataSet[1]"
   ]
  },
  {
   "cell_type": "code",
   "execution_count": 12,
   "id": "f99583e3-a68d-4fe6-91d4-15ca84fb1a91",
   "metadata": {},
   "outputs": [],
   "source": [
    "#dataSet= pd.DataFrame(DataSet)"
   ]
  },
  {
   "cell_type": "code",
   "execution_count": null,
   "id": "0fe99e79-d81a-43d2-a290-e5eb8a09587a",
   "metadata": {},
   "outputs": [],
   "source": [
    "#dataSet.columns=['SalePrice','OverallQual','1stFlrSF','TotRmsAbvGrd','YearBuilt','LotFrontage']\n",
    "#DataSet\n",
    "#DataSet.query('SalePrice==@Max')"
   ]
  },
  {
   "cell_type": "code",
   "execution_count": 41,
   "id": "8463e567-13e5-4914-aafb-0aed8ae73a7c",
   "metadata": {},
   "outputs": [
    {
     "name": "stdout",
     "output_type": "stream",
     "text": [
      "Entrenamiento 1175\n",
      "Validacion 285\n"
     ]
    },
    {
     "name": "stderr",
     "output_type": "stream",
     "text": [
      "C:\\Users\\analu\\AppData\\Local\\Temp\\ipykernel_22708\\2234720463.py:4: FutureWarning: In a future version of pandas all arguments of DataFrame.drop except for the argument 'labels' will be keyword-only.\n",
      "  dataSet = dataSet.drop('is_train', 1)\n"
     ]
    }
   ],
   "source": [
    "e_ntrenamiento = 0.80\n",
    "dataSet['is_train'] = np.random.uniform(0, 1, len(dataSet)) <= e_ntrenamiento\n",
    "entrenamiento, validacion = dataSet[dataSet['is_train']==True], dataSet[dataSet['is_train']==False]\n",
    "dataSet = dataSet.drop('is_train', 1)\n",
    "print (\"Entrenamiento\",len(entrenamiento))\n",
    "print(\"Validacion\",len(validacion))"
   ]
  },
  {
   "cell_type": "code",
   "execution_count": 48,
   "id": "9d8b78f1-6bf8-4e74-8173-019b1be7c308",
   "metadata": {},
   "outputs": [],
   "source": [
    "#MEDIA POR VARIABLES\n",
    "mediaS=np.median(entrenamiento['SalePrice'])\n",
    "mediaO=np.median(entrenamiento['OverallQual'])\n",
    "media1=np.median(entrenamiento['1stFlrSF'])\n",
    "mediaT=np.median(entrenamiento['TotRmsAbvGrd'])\n",
    "mediaY=np.median(entrenamiento['YearBuilt'])"
   ]
  },
  {
   "cell_type": "code",
   "execution_count": null,
   "id": "019085ee-ee98-4870-95d6-50e40fc4eb4b",
   "metadata": {},
   "outputs": [],
   "source": []
  },
  {
   "cell_type": "code",
   "execution_count": null,
   "id": "772e0425-020b-4ea6-b1d3-1eab16ff33db",
   "metadata": {},
   "outputs": [],
   "source": [
    "mediaL=np.median(entrenamiento['LotFrontage'])\n",
    "mediaL"
   ]
  },
  {
   "cell_type": "code",
   "execution_count": 47,
   "id": "7f0f883b-f2b7-4abd-857a-49f10e004281",
   "metadata": {},
   "outputs": [
    {
     "name": "stdout",
     "output_type": "stream",
     "text": [
      "MediaSalePrice 165000.0\n"
     ]
    }
   ],
   "source": [
    "print('MediaSalePrice', str(mediaS))"
   ]
  },
  {
   "cell_type": "code",
   "execution_count": 37,
   "id": "19aa6701-6a36-4da7-82c6-f8a5be862b13",
   "metadata": {},
   "outputs": [
    {
     "data": {
      "text/plain": [
       "755000.0"
      ]
     },
     "execution_count": 37,
     "metadata": {},
     "output_type": "execute_result"
    }
   ],
   "source": [
    "#VALORES MAXIMOS POR VARIABLES\n",
    "MaxS=np.max(entrenamiento['SalePrice'])\n",
    "MaxS"
   ]
  },
  {
   "cell_type": "code",
   "execution_count": 38,
   "id": "0210aa83-fa22-4792-a7ba-7633c1207cbb",
   "metadata": {},
   "outputs": [
    {
     "data": {
      "text/plain": [
       "10.0"
      ]
     },
     "execution_count": 38,
     "metadata": {},
     "output_type": "execute_result"
    }
   ],
   "source": [
    "MaxO=np.max(entrenamiento['OverallQual'])\n",
    "MaxO"
   ]
  },
  {
   "cell_type": "code",
   "execution_count": null,
   "id": "b65baf61-9fbb-4f2b-b583-fc3eb8b7f1e1",
   "metadata": {},
   "outputs": [],
   "source": [
    "Max1=np.max(entrenamiento['1stFlrSF'])\n",
    "Max1"
   ]
  },
  {
   "cell_type": "code",
   "execution_count": null,
   "id": "83d8e9af-ee57-4646-b39a-73d6903d859d",
   "metadata": {},
   "outputs": [],
   "source": [
    "MaxT=np.max(entrenamiento['TotRmsAbvGrd'])\n",
    "MaxT"
   ]
  },
  {
   "cell_type": "code",
   "execution_count": null,
   "id": "7d704a2f-60bd-42ce-b546-23140d567bb9",
   "metadata": {},
   "outputs": [],
   "source": [
    "MaxY=np.max(entrenamiento['YearBuilt'])\n",
    "MaxY"
   ]
  },
  {
   "cell_type": "code",
   "execution_count": null,
   "id": "f23789f2-97a7-4748-878c-57acb1fc1312",
   "metadata": {},
   "outputs": [],
   "source": [
    "MaxL=np.max(entrenamiento['LotFrontage'])\n",
    "MaxL"
   ]
  },
  {
   "cell_type": "code",
   "execution_count": null,
   "id": "6c51ea1b-8e16-41be-acdd-fc6f3a26af16",
   "metadata": {},
   "outputs": [],
   "source": [
    "#VALORES MINIMOS POR VARIABLES"
   ]
  },
  {
   "cell_type": "code",
   "execution_count": null,
   "id": "82f7a03d-645d-4b42-8979-1dd231a390e2",
   "metadata": {},
   "outputs": [],
   "source": [
    "MinS=np.min(entrenamiento['SalePrice'])\n",
    "MinS"
   ]
  },
  {
   "cell_type": "code",
   "execution_count": null,
   "id": "06bdc2c7-a6de-4cc4-9b44-e7764807cb8a",
   "metadata": {},
   "outputs": [],
   "source": [
    "MinO=np.min(entrenamiento['OverallQual'])\n",
    "MinO"
   ]
  },
  {
   "cell_type": "code",
   "execution_count": null,
   "id": "32fb9c7f-0492-42d3-a7a0-7cf62abb1d81",
   "metadata": {},
   "outputs": [],
   "source": [
    "Min1=np.min(entrenamiento['1stFlrSF'])\n",
    "Min1"
   ]
  },
  {
   "cell_type": "code",
   "execution_count": null,
   "id": "6a4f9664-2c6b-4485-acaf-13d300a6c4bc",
   "metadata": {},
   "outputs": [],
   "source": [
    "MinT=np.min(entrenamiento['TotRmsAbvGrd'])\n",
    "MinT"
   ]
  },
  {
   "cell_type": "code",
   "execution_count": null,
   "id": "faa745ef-9ca2-4ce0-81ab-c69c6268f3ea",
   "metadata": {},
   "outputs": [],
   "source": [
    "MinY=np.min(entrenamiento['YearBuilt'])\n",
    "MinY"
   ]
  },
  {
   "cell_type": "code",
   "execution_count": null,
   "id": "ef085f07-82ca-418c-86d3-2ce6a594e5f1",
   "metadata": {},
   "outputs": [],
   "source": [
    "MinL=np.min(entrenamiento['LotFrontage'])\n",
    "MinL"
   ]
  },
  {
   "cell_type": "code",
   "execution_count": null,
   "id": "bb806508-c6a6-4022-8487-64280e50c832",
   "metadata": {},
   "outputs": [],
   "source": [
    "#RANGOS POR VARIABLE PEAK TO PEAK\n",
    "ptpS=np.ptp(entrenamiento['SalePrice'])\n",
    "ptpS"
   ]
  },
  {
   "cell_type": "code",
   "execution_count": null,
   "id": "8d39da5b-a91b-4d2e-af94-7b2a3b82936f",
   "metadata": {},
   "outputs": [],
   "source": [
    "ptpO=np.ptp(entrenamiento['OverallQual'])\n",
    "ptpO"
   ]
  },
  {
   "cell_type": "code",
   "execution_count": null,
   "id": "91b47f1e-00a6-43ee-8815-e69b4a1e4881",
   "metadata": {},
   "outputs": [],
   "source": [
    "ptp1=np.ptp(entrenamiento['1stFlrSF'])\n",
    "ptp1"
   ]
  },
  {
   "cell_type": "code",
   "execution_count": null,
   "id": "75c32378-9f01-41cf-ba90-bfee3e173a49",
   "metadata": {},
   "outputs": [],
   "source": [
    "ptpT=np.ptp(entrenamiento['TotRmsAbvGrd'])\n",
    "ptpT"
   ]
  },
  {
   "cell_type": "code",
   "execution_count": null,
   "id": "4d6f73e3-0f91-4ff1-a892-34d0812b0782",
   "metadata": {},
   "outputs": [],
   "source": [
    "ptpY=np.ptp(entrenamiento['YearBuilt'])\n",
    "ptpY"
   ]
  },
  {
   "cell_type": "code",
   "execution_count": null,
   "id": "821401ad-814d-427c-8fad-9fcc3b5f2809",
   "metadata": {},
   "outputs": [],
   "source": [
    "ptpL=np.ptp(entrenamiento['LotFrontage'])\n",
    "ptpL"
   ]
  },
  {
   "cell_type": "code",
   "execution_count": null,
   "id": "a73c8336-f363-461b-b121-2ad749aa6b24",
   "metadata": {},
   "outputs": [],
   "source": [
    "#DESVIACION ESTANDAR POR VARIABLE\n",
    "ptpL=np.ptp(entrenamiento['LotFrontage'])\n",
    "ptpL"
   ]
  },
  {
   "cell_type": "code",
   "execution_count": 34,
   "id": "c68ede05-90ca-40d2-bac9-b3ce5d95a5fc",
   "metadata": {},
   "outputs": [
    {
     "data": {
      "text/plain": [
       "[<matplotlib.lines.Line2D at 0x290aa32a4f0>]"
      ]
     },
     "execution_count": 34,
     "metadata": {},
     "output_type": "execute_result"
    },
    {
     "data": {
      "image/png": "[encoded data removed]",
      "text/plain": [
       "<Figure size 640x480 with 1 Axes>"
      ]
     },
     "metadata": {},
     "output_type": "display_data"
    }
   ],
   "source": [
    "plt.plot(DataSet['YearBuilt'],DataSet['SalePrice'],'b.')\n",
    "plt.plot(DataSet('X'))"
   ]
  },
  {
   "cell_type": "code",
   "execution_count": 40,
   "id": "ecd6dc0f-64f6-4282-82f9-45419e217aa6",
   "metadata": {},
   "outputs": [
    {
     "data": {
      "image/png": "[encoded data removed]",
      "text/plain": [
       "<Figure size 640x480 with 1 Axes>"
      ]
     },
     "metadata": {},
     "output_type": "display_data"
    },
    {
     "data": {
      "image/png": "[encoded data removed]",
      "text/plain": [
       "<Figure size 640x480 with 4 Axes>"
      ]
     },
     "metadata": {},
     "output_type": "display_data"
    }
   ],
   "source": [
    "plt.plot(DataSet['YearBuilt'],DataSet['SalePrice'],'b.')\n",
    "plt.xlabel(\"YearBuilt\")\n",
    "plt.ylabel(\"SalePrice\")\n",
    "plt.title(\"Ejemplo\")\n",
    "plt.subplots(2, 2, sharex='col')\n",
    "plt.show()"
   ]
  },
  {
   "cell_type": "code",
   "execution_count": 36,
   "id": "c614f558-b23b-45b8-ad7e-d03e26b14ae5",
   "metadata": {},
   "outputs": [
    {
     "data": {
      "text/html": [
       "<div>\n",
       "<style scoped>\n",
       "    .dataframe tbody tr th:only-of-type {\n",
       "        vertical-align: middle;\n",
       "    }\n",
       "\n",
       "    .dataframe tbody tr th {\n",
       "        vertical-align: top;\n",
       "    }\n",
       "\n",
       "    .dataframe thead th {\n",
       "        text-align: right;\n",
       "    }\n",
       "</style>\n",
       "<table border=\"1\" class=\"dataframe\">\n",
       "  <thead>\n",
       "    <tr style=\"text-align: right;\">\n",
       "      <th></th>\n",
       "      <th>SalePrice</th>\n",
       "      <th>OverallQual</th>\n",
       "      <th>1stFlrSF</th>\n",
       "      <th>TotRmsAbvGrd</th>\n",
       "      <th>YearBuilt</th>\n",
       "      <th>LotFrontage</th>\n",
       "    </tr>\n",
       "  </thead>\n",
       "  <tbody>\n",
       "    <tr>\n",
       "      <th>SalePrice</th>\n",
       "      <td>1.000000</td>\n",
       "      <td>0.790982</td>\n",
       "      <td>0.605852</td>\n",
       "      <td>0.533723</td>\n",
       "      <td>0.522897</td>\n",
       "      <td>0.351799</td>\n",
       "    </tr>\n",
       "    <tr>\n",
       "      <th>OverallQual</th>\n",
       "      <td>0.790982</td>\n",
       "      <td>1.000000</td>\n",
       "      <td>0.476224</td>\n",
       "      <td>0.427452</td>\n",
       "      <td>0.572323</td>\n",
       "      <td>0.251646</td>\n",
       "    </tr>\n",
       "    <tr>\n",
       "      <th>1stFlrSF</th>\n",
       "      <td>0.605852</td>\n",
       "      <td>0.476224</td>\n",
       "      <td>1.000000</td>\n",
       "      <td>0.409516</td>\n",
       "      <td>0.281986</td>\n",
       "      <td>0.457181</td>\n",
       "    </tr>\n",
       "    <tr>\n",
       "      <th>TotRmsAbvGrd</th>\n",
       "      <td>0.533723</td>\n",
       "      <td>0.427452</td>\n",
       "      <td>0.409516</td>\n",
       "      <td>1.000000</td>\n",
       "      <td>0.095589</td>\n",
       "      <td>0.352096</td>\n",
       "    </tr>\n",
       "    <tr>\n",
       "      <th>YearBuilt</th>\n",
       "      <td>0.522897</td>\n",
       "      <td>0.572323</td>\n",
       "      <td>0.281986</td>\n",
       "      <td>0.095589</td>\n",
       "      <td>1.000000</td>\n",
       "      <td>0.123349</td>\n",
       "    </tr>\n",
       "    <tr>\n",
       "      <th>LotFrontage</th>\n",
       "      <td>0.351799</td>\n",
       "      <td>0.251646</td>\n",
       "      <td>0.457181</td>\n",
       "      <td>0.352096</td>\n",
       "      <td>0.123349</td>\n",
       "      <td>1.000000</td>\n",
       "    </tr>\n",
       "  </tbody>\n",
       "</table>\n",
       "</div>"
      ],
      "text/plain": [
       "              SalePrice  OverallQual  1stFlrSF  TotRmsAbvGrd  YearBuilt  \\\n",
       "SalePrice      1.000000     0.790982  0.605852      0.533723   0.522897   \n",
       "OverallQual    0.790982     1.000000  0.476224      0.427452   0.572323   \n",
       "1stFlrSF       0.605852     0.476224  1.000000      0.409516   0.281986   \n",
       "TotRmsAbvGrd   0.533723     0.427452  0.409516      1.000000   0.095589   \n",
       "YearBuilt      0.522897     0.572323  0.281986      0.095589   1.000000   \n",
       "LotFrontage    0.351799     0.251646  0.457181      0.352096   0.123349   \n",
       "\n",
       "              LotFrontage  \n",
       "SalePrice        0.351799  \n",
       "OverallQual      0.251646  \n",
       "1stFlrSF         0.457181  \n",
       "TotRmsAbvGrd     0.352096  \n",
       "YearBuilt        0.123349  \n",
       "LotFrontage      1.000000  "
      ]
     },
     "execution_count": 36,
     "metadata": {},
     "output_type": "execute_result"
    }
   ],
   "source": [
    "DataSet.corr()"
   ]
  },
  {
   "cell_type": "code",
   "execution_count": null,
   "id": "a84039d5-b2a0-499a-8603-d072d15df2e7",
   "metadata": {},
   "outputs": [],
   "source": []
  }
 ],
 "metadata": {
  "kernelspec": {
   "display_name": "Python 3 (ipykernel)",
   "language": "python",
   "name": "python3"
  },
  "language_info": {
   "codemirror_mode": {
    "name": "ipython",
    "version": 3
   },
   "file_extension": ".py",
   "mimetype": "text/x-python",
   "name": "python",
   "nbconvert_exporter": "python",
   "pygments_lexer": "ipython3",
   "version": "3.9.13"
  }
 },
 "nbformat": 4,
 "nbformat_minor": 5
}
